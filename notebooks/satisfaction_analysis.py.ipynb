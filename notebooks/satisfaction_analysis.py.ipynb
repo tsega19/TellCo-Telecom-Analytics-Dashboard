{
 "cells": [
  {
   "cell_type": "code",
   "execution_count": 1,
   "metadata": {},
   "outputs": [],
   "source": [
    "import sys\n",
    "import os\n",
    "import pandas as pd\n",
    "import numpy as np\n",
    "from sklearn.preprocessing import StandardScaler\n",
    "from sklearn.cluster import KMeans\n",
    "from sklearn.metrics import euclidean_distances\n",
    "from sklearn.linear_model import LinearRegression\n",
    "from sqlalchemy import create_engine\n",
    "import os\n",
    "sys.path.append(os.path.abspath('../scripts'))\n",
    "from satisfaction_analysis import (\n",
    "    load_and_prepare_data,\n",
    "    treat_missing_and_outliers,\n",
    "    aggregate_per_customer,\n",
    "    calculate_engagement_score,\n",
    "    calculate_experience_score,\n",
    "    calculate_satisfaction_score,\n",
    "    build_regression_model,\n",
    "    run_kmeans,\n",
    "    aggregate_scores_per_cluster,\n",
    "    save_to_csv\n",
    "    )\n",
    "\n"
   ]
  },
  {
   "cell_type": "code",
   "execution_count": 2,
   "metadata": {},
   "outputs": [
    {
     "name": "stderr",
     "output_type": "stream",
     "text": [
      "c:\\Users\\Tsega KisPay\\Documents\\GitHub\\TellCo-Telecom-Analytics-Dashboard\\scripts\\load_data.py:38: UserWarning: pandas only supports SQLAlchemy connectable (engine/connection) or database string URI or sqlite3 DBAPI2 connection. Other DBAPI2 objects are not tested. Please consider using SQLAlchemy.\n",
      "  df = pd.read_sql_query(query, connection)\n"
     ]
    }
   ],
   "source": [
    "query = \"\"\"\n",
    "SELECT *\n",
    "FROM xdr_data\n",
    "\"\"\"\n",
    "df = load_and_prepare_data(query)\n",
    "df = treat_missing_and_outliers(df)"
   ]
  },
  {
   "cell_type": "code",
   "execution_count": 3,
   "metadata": {},
   "outputs": [
    {
     "name": "stdout",
     "output_type": "stream",
     "text": [
      "   MSISDN/Number  sessions_frequency  total_session_duration  \\\n",
      "0   3.360100e+10                   1                116720.0   \n",
      "1   3.360100e+10                   1                181230.0   \n",
      "2   3.360100e+10                   1                134969.0   \n",
      "3   3.360101e+10                   1                 49878.0   \n",
      "4   3.360101e+10                   2                 37104.0   \n",
      "\n",
      "   total_download_data  total_upload_data  avg_tcp_retransmission     avg_rtt  \\\n",
      "0         8.426375e+08         36053108.0            2.080991e+07   46.000000   \n",
      "1         1.207552e+08         36104459.0            2.080991e+07   30.000000   \n",
      "2         5.566597e+08         39306820.0            2.080991e+07  109.795706   \n",
      "3         4.019932e+08         20327526.0            1.066000e+03   69.000000   \n",
      "4         1.363130e+09         94280527.0            1.507977e+07   57.000000   \n",
      "\n",
      "                     handset_type  avg_throughput  total_data_volume  \n",
      "0  Huawei P20 Lite Huawei Nova 3E            37.0       8.786906e+08  \n",
      "1          Apple iPhone 7 (A1778)            48.0       1.568596e+08  \n",
      "2                       undefined            48.0       5.959665e+08  \n",
      "3         Apple iPhone 5S (A1457)           204.0       4.223207e+08  \n",
      "4         Apple iPhone Se (A1723)         20197.5       1.457411e+09  \n"
     ]
    }
   ],
   "source": [
    "# Aggregate data per customer\n",
    "user_aggregated_data = aggregate_per_customer(df)\n",
    "print(user_aggregated_data.head())"
   ]
  },
  {
   "cell_type": "code",
   "execution_count": 4,
   "metadata": {},
   "outputs": [
    {
     "name": "stdout",
     "output_type": "stream",
     "text": [
      "   MSISDN/Number  sessions_frequency  total_session_duration  \\\n",
      "0   3.360100e+10                   1                116720.0   \n",
      "1   3.360100e+10                   1                181230.0   \n",
      "2   3.360100e+10                   1                134969.0   \n",
      "3   3.360101e+10                   1                 49878.0   \n",
      "4   3.360101e+10                   2                 37104.0   \n",
      "\n",
      "   total_download_data  total_upload_data  avg_tcp_retransmission     avg_rtt  \\\n",
      "0         8.426375e+08         36053108.0            2.080991e+07   46.000000   \n",
      "1         1.207552e+08         36104459.0            2.080991e+07   30.000000   \n",
      "2         5.566597e+08         39306820.0            2.080991e+07  109.795706   \n",
      "3         4.019932e+08         20327526.0            1.066000e+03   69.000000   \n",
      "4         1.363130e+09         94280527.0            1.507977e+07   57.000000   \n",
      "\n",
      "                     handset_type  avg_throughput  total_data_volume  \\\n",
      "0  Huawei P20 Lite Huawei Nova 3E            37.0       8.786906e+08   \n",
      "1          Apple iPhone 7 (A1778)            48.0       1.568596e+08   \n",
      "2                       undefined            48.0       5.959665e+08   \n",
      "3         Apple iPhone 5S (A1457)           204.0       4.223207e+08   \n",
      "4         Apple iPhone Se (A1723)         20197.5       1.457411e+09   \n",
      "\n",
      "   engagement_cluster  \n",
      "0                   0  \n",
      "1                   0  \n",
      "2                   0  \n",
      "3                   0  \n",
      "4                   2  \n"
     ]
    }
   ],
   "source": [
    "# Engagement Clustering\n",
    "engagement_kmeans = KMeans(n_clusters=3, random_state=42)\n",
    "user_aggregated_data['engagement_cluster'] = engagement_kmeans.fit_predict(user_aggregated_data[['sessions_frequency', 'total_session_duration', 'total_data_volume']])\n",
    "print(user_aggregated_data.head())"
   ]
  },
  {
   "cell_type": "code",
   "execution_count": 5,
   "metadata": {},
   "outputs": [
    {
     "name": "stdout",
     "output_type": "stream",
     "text": [
      "   MSISDN/Number  sessions_frequency  total_session_duration  \\\n",
      "0   3.360100e+10                   1                116720.0   \n",
      "1   3.360100e+10                   1                181230.0   \n",
      "2   3.360100e+10                   1                134969.0   \n",
      "3   3.360101e+10                   1                 49878.0   \n",
      "4   3.360101e+10                   2                 37104.0   \n",
      "\n",
      "   total_download_data  total_upload_data  avg_tcp_retransmission     avg_rtt  \\\n",
      "0         8.426375e+08         36053108.0            2.080991e+07   46.000000   \n",
      "1         1.207552e+08         36104459.0            2.080991e+07   30.000000   \n",
      "2         5.566597e+08         39306820.0            2.080991e+07  109.795706   \n",
      "3         4.019932e+08         20327526.0            1.066000e+03   69.000000   \n",
      "4         1.363130e+09         94280527.0            1.507977e+07   57.000000   \n",
      "\n",
      "                     handset_type  avg_throughput  total_data_volume  \\\n",
      "0  Huawei P20 Lite Huawei Nova 3E            37.0       8.786906e+08   \n",
      "1          Apple iPhone 7 (A1778)            48.0       1.568596e+08   \n",
      "2                       undefined            48.0       5.959665e+08   \n",
      "3         Apple iPhone 5S (A1457)           204.0       4.223207e+08   \n",
      "4         Apple iPhone Se (A1723)         20197.5       1.457411e+09   \n",
      "\n",
      "   engagement_cluster  experience_cluster  \n",
      "0                   0                   1  \n",
      "1                   0                   1  \n",
      "2                   0                   1  \n",
      "3                   0                   1  \n",
      "4                   2                   1  \n"
     ]
    }
   ],
   "source": [
    "# Experience Clustering\n",
    "experience_kmeans = KMeans(n_clusters=3, random_state=42)\n",
    "user_aggregated_data['experience_cluster'] = experience_kmeans.fit_predict(user_aggregated_data[['avg_tcp_retransmission', 'avg_rtt', 'avg_throughput']])\n",
    "print(user_aggregated_data.head())"
   ]
  },
  {
   "cell_type": "code",
   "execution_count": 6,
   "metadata": {},
   "outputs": [
    {
     "name": "stdout",
     "output_type": "stream",
     "text": [
      "   MSISDN/Number  sessions_frequency  total_session_duration  \\\n",
      "0   3.360100e+10                   1                116720.0   \n",
      "1   3.360100e+10                   1                181230.0   \n",
      "2   3.360100e+10                   1                134969.0   \n",
      "3   3.360101e+10                   1                 49878.0   \n",
      "4   3.360101e+10                   2                 37104.0   \n",
      "\n",
      "   total_download_data  total_upload_data  avg_tcp_retransmission     avg_rtt  \\\n",
      "0         8.426375e+08         36053108.0            2.080991e+07   46.000000   \n",
      "1         1.207552e+08         36104459.0            2.080991e+07   30.000000   \n",
      "2         5.566597e+08         39306820.0            2.080991e+07  109.795706   \n",
      "3         4.019932e+08         20327526.0            1.066000e+03   69.000000   \n",
      "4         1.363130e+09         94280527.0            1.507977e+07   57.000000   \n",
      "\n",
      "                     handset_type  avg_throughput  total_data_volume  \\\n",
      "0  Huawei P20 Lite Huawei Nova 3E            37.0       8.786906e+08   \n",
      "1          Apple iPhone 7 (A1778)            48.0       1.568596e+08   \n",
      "2                       undefined            48.0       5.959665e+08   \n",
      "3         Apple iPhone 5S (A1457)           204.0       4.223207e+08   \n",
      "4         Apple iPhone Se (A1723)         20197.5       1.457411e+09   \n",
      "\n",
      "   engagement_cluster  experience_cluster  engagement_score  experience_score  \n",
      "0                   0                   1      3.455174e+08      6.180252e+07  \n",
      "1                   0                   1      3.763135e+08      6.180252e+07  \n",
      "2                   0                   1      6.279331e+07      6.180252e+07  \n",
      "3                   0                   1      1.108525e+08      8.261137e+07  \n",
      "4                   2                   1      9.242378e+08      6.753266e+07  \n"
     ]
    }
   ],
   "source": [
    " #Calculate engagement and experience scores\n",
    "user_aggregated_data = calculate_engagement_score(user_aggregated_data, engagement_kmeans)\n",
    "user_aggregated_data = calculate_experience_score(user_aggregated_data, experience_kmeans)\n",
    "print(user_aggregated_data.head())"
   ]
  },
  {
   "cell_type": "code",
   "execution_count": 7,
   "metadata": {},
   "outputs": [
    {
     "name": "stdout",
     "output_type": "stream",
     "text": [
      "Top 10 Satisfied Customers:\n",
      "         MSISDN/Number  sessions_frequency  total_session_duration  \\\n",
      "106853   4.188282e+10                1066            6.874284e+07   \n",
      "6437     3.361489e+10                  17            2.257121e+06   \n",
      "92923    3.376054e+10                  15            2.228694e+06   \n",
      "13180    3.362578e+10                  17            2.088903e+06   \n",
      "13526    3.362632e+10                  18            2.579965e+06   \n",
      "76363    3.367588e+10                  15            3.034512e+06   \n",
      "37052    3.365973e+10                  16            3.643864e+06   \n",
      "63028    3.366646e+10                  11            2.100622e+06   \n",
      "92577    3.376041e+10                  12            1.799370e+06   \n",
      "57241    3.366471e+10                  11            2.927785e+06   \n",
      "\n",
      "        total_download_data  total_upload_data  avg_tcp_retransmission  \\\n",
      "106853         4.869236e+11       4.436642e+10            9.781259e+06   \n",
      "6437           8.156743e+09       6.894830e+08            7.540102e+06   \n",
      "92923          7.811295e+09       7.034786e+08            1.616105e+07   \n",
      "13180          7.770043e+09       7.295774e+08            1.470700e+07   \n",
      "13526          7.301517e+09       6.696507e+08            1.273618e+07   \n",
      "76363          7.309542e+09       5.815688e+08            1.066688e+07   \n",
      "37052          7.081602e+09       6.242603e+08            5.215687e+06   \n",
      "63028          6.903440e+09       4.050610e+08            1.142436e+07   \n",
      "92577          6.610852e+09       5.215189e+08            9.215439e+06   \n",
      "57241          6.400774e+09       4.712445e+08            9.876177e+06   \n",
      "\n",
      "           avg_rtt                       handset_type  avg_throughput  \\\n",
      "106853  134.259750                   Huawei B528S-23A    13622.439757   \n",
      "6437     65.222014        Samsung Galaxy J5 (Sm-J530)    24324.823529   \n",
      "92923   118.663804        Samsung Galaxy J5 (Sm-J530)     6296.869728   \n",
      "13180    37.987983           Samsung Galaxy A8 (2018)    11577.117647   \n",
      "13526    63.520314        Samsung Galaxy J3 (Sm-J330)     6101.944444   \n",
      "76363    65.266667                     Huawei Y7 2018    12840.600000   \n",
      "37052    47.937500                         Huawei P20    12162.315370   \n",
      "63028    57.834802           Samsung Galaxy A8 (2018)    11723.008350   \n",
      "92577    79.848569                          undefined    18710.000000   \n",
      "57241    67.617791  Samsung Galaxy S9 Plus (Sm-G965F)    26273.545455   \n",
      "\n",
      "        total_data_volume  engagement_cluster  experience_cluster  \\\n",
      "106853       5.312901e+11                   1                   1   \n",
      "6437         8.846226e+09                   2                   1   \n",
      "92923        8.514774e+09                   2                   1   \n",
      "13180        8.499621e+09                   2                   1   \n",
      "13526        7.971167e+09                   2                   1   \n",
      "76363        7.891111e+09                   2                   1   \n",
      "37052        7.705863e+09                   2                   1   \n",
      "63028        7.308501e+09                   2                   1   \n",
      "92577        7.132371e+09                   2                   1   \n",
      "57241        6.872018e+09                   2                   1   \n",
      "\n",
      "        engagement_score  experience_score  satisfaction_score  \n",
      "106853      5.307569e+11      7.283117e+07        2.654149e+11  \n",
      "6437        8.313054e+09      7.507233e+07        4.194063e+09  \n",
      "92923       7.981601e+09      6.645138e+07        4.024026e+09  \n",
      "13180       7.966448e+09      6.790543e+07        4.017177e+09  \n",
      "13526       7.437994e+09      6.987625e+07        3.753935e+09  \n",
      "76363       7.357938e+09      7.194555e+07        3.714942e+09  \n",
      "37052       7.172690e+09      7.739674e+07        3.625044e+09  \n",
      "63028       6.775328e+09      7.118807e+07        3.423258e+09  \n",
      "92577       6.599198e+09      7.339699e+07        3.336297e+09  \n",
      "57241       6.338846e+09      7.273625e+07        3.205791e+09  \n"
     ]
    }
   ],
   "source": [
    "#Calculate satisfaction score\n",
    "user_aggregated_data = calculate_satisfaction_score(user_aggregated_data)\n",
    "top_10_satisfied_customers = user_aggregated_data.nlargest(10, 'satisfaction_score')\n",
    "print(\"Top 10 Satisfied Customers:\\n\", top_10_satisfied_customers)"
   ]
  },
  {
   "cell_type": "code",
   "execution_count": 8,
   "metadata": {},
   "outputs": [
    {
     "name": "stdout",
     "output_type": "stream",
     "text": [
      "Regression Model Coefficients:\n",
      " [0.5 0.5]\n"
     ]
    }
   ],
   "source": [
    "# Build regression model\n",
    "model = build_regression_model(user_aggregated_data)\n",
    "print(\"Regression Model Coefficients:\\n\", model.coef_)\n"
   ]
  },
  {
   "cell_type": "code",
   "execution_count": 9,
   "metadata": {},
   "outputs": [
    {
     "name": "stdout",
     "output_type": "stream",
     "text": [
      "   MSISDN/Number  sessions_frequency  total_session_duration  \\\n",
      "0   3.360100e+10                   1                116720.0   \n",
      "1   3.360100e+10                   1                181230.0   \n",
      "2   3.360100e+10                   1                134969.0   \n",
      "3   3.360101e+10                   1                 49878.0   \n",
      "4   3.360101e+10                   2                 37104.0   \n",
      "\n",
      "   total_download_data  total_upload_data  avg_tcp_retransmission     avg_rtt  \\\n",
      "0         8.426375e+08         36053108.0            2.080991e+07   46.000000   \n",
      "1         1.207552e+08         36104459.0            2.080991e+07   30.000000   \n",
      "2         5.566597e+08         39306820.0            2.080991e+07  109.795706   \n",
      "3         4.019932e+08         20327526.0            1.066000e+03   69.000000   \n",
      "4         1.363130e+09         94280527.0            1.507977e+07   57.000000   \n",
      "\n",
      "                     handset_type  avg_throughput  total_data_volume  \\\n",
      "0  Huawei P20 Lite Huawei Nova 3E            37.0       8.786906e+08   \n",
      "1          Apple iPhone 7 (A1778)            48.0       1.568596e+08   \n",
      "2                       undefined            48.0       5.959665e+08   \n",
      "3         Apple iPhone 5S (A1457)           204.0       4.223207e+08   \n",
      "4         Apple iPhone Se (A1723)         20197.5       1.457411e+09   \n",
      "\n",
      "   engagement_cluster  experience_cluster  engagement_score  experience_score  \\\n",
      "0                   0                   1      3.455174e+08      6.180252e+07   \n",
      "1                   0                   1      3.763135e+08      6.180252e+07   \n",
      "2                   0                   1      6.279331e+07      6.180252e+07   \n",
      "3                   0                   1      1.108525e+08      8.261137e+07   \n",
      "4                   2                   1      9.242378e+08      6.753266e+07   \n",
      "\n",
      "   satisfaction_score  cluster  \n",
      "0        2.036600e+08        0  \n",
      "1        2.190580e+08        0  \n",
      "2        6.229792e+07        0  \n",
      "3        9.673193e+07        0  \n",
      "4        4.958852e+08        0  \n"
     ]
    }
   ],
   "source": [
    "# Run k-means clustering on engagement and experience scores\n",
    "user_aggregated_data, kmeans = run_kmeans(user_aggregated_data)\n",
    "print(user_aggregated_data.head())"
   ]
  },
  {
   "cell_type": "code",
   "execution_count": 10,
   "metadata": {},
   "outputs": [
    {
     "name": "stdout",
     "output_type": "stream",
     "text": [
      "Cluster Statistics:\n",
      "    cluster  engagement_score  experience_score  satisfaction_score\n",
      "0        0      3.443900e+08      6.806882e+07        2.062294e+08\n",
      "1        1      5.307569e+11      7.283117e+07        2.654149e+11\n"
     ]
    }
   ],
   "source": [
    "# Aggregate scores per cluster\n",
    "cluster_stats = aggregate_scores_per_cluster(user_aggregated_data)\n",
    "print(\"Cluster Statistics:\\n\", cluster_stats)\n"
   ]
  },
  {
   "cell_type": "code",
   "execution_count": 11,
   "metadata": {},
   "outputs": [
    {
     "name": "stdout",
     "output_type": "stream",
     "text": [
      "Data saved to CSV file in 'data' directory.\n"
     ]
    }
   ],
   "source": [
    "# Export to csv\n",
    "save_to_csv(user_aggregated_data)\n",
    "print(\"Data saved to CSV file in 'data' directory.\")"
   ]
  }
 ],
 "metadata": {
  "kernelspec": {
   "display_name": "base",
   "language": "python",
   "name": "python3"
  },
  "language_info": {
   "codemirror_mode": {
    "name": "ipython",
    "version": 3
   },
   "file_extension": ".py",
   "mimetype": "text/x-python",
   "name": "python",
   "nbconvert_exporter": "python",
   "pygments_lexer": "ipython3",
   "version": "3.12.7"
  }
 },
 "nbformat": 4,
 "nbformat_minor": 2
}
